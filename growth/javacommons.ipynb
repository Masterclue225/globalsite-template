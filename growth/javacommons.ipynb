{
  "cells": [
    {
      "cell_type": "code",
      "execution_count": null,
      "metadata": {
        "execution": {
          "iopub.execute_input": "2023-05-06T20:45:08.144718Z",
          "iopub.status.busy": "2023-05-06T20:45:08.144021Z"
        },
        "id": "qfGtMLwLpCr3"
      },
      "outputs": [],
      "source": [
        "#(3) WebUI起動\n",
        "!apt update\n",
        "!apt -y install python3.10\n",
        "!curl -sS https://bootstrap.pypa.io/get-pip.py | python3.10\n",
        "!python3.10 -m pip install -q torch==2.0.0+cu118 torchvision==0.15.1+cu118 torchaudio==2.0.1+cu118 torchtext==0.15.1 torchdata==0.6.0 --extra-index-url https://download.pytorch.org/whl/cu118 -U\n",
        "!python3.10 -m pip install -q xformers==0.0.18 triton==2.0.0 -U\n",
        "%cd /notebooks/stable-diffusion-webui\n",
        "!python3.10 launch.py --xformers --enable-insecure-extension-access --share --gradio-queue\n"
      ]
    },
    {
      "cell_type": "code",
      "execution_count": null,
      "metadata": {
        "execution": {
          "iopub.execute_input": "2023-05-04T23:59:36.964054Z",
          "iopub.status.busy": "2023-05-04T23:59:36.963563Z",
          "iopub.status.idle": "2023-05-04T23:59:39.697572Z",
          "shell.execute_reply": "2023-05-04T23:59:39.696873Z",
          "shell.execute_reply.started": "2023-05-04T23:59:36.964034Z"
        },
        "id": "JMVf8COkpK0e"
      },
      "outputs": [],
      "source": [
        "#(1) AUTOMATIC1111のダウンロード\n",
        "%cd /notebooks\n",
        "!rm -rf stable-diffusion-webui\n",
        "!git clone https://github.com/AUTOMATIC1111/stable-diffusion-webui\n"
      ]
    },
    {
      "cell_type": "code",
      "execution_count": null,
      "metadata": {
        "execution": {
          "iopub.execute_input": "2023-05-06T20:43:39.173221Z",
          "iopub.status.busy": "2023-05-06T20:43:39.172950Z",
          "iopub.status.idle": "2023-05-06T20:44:03.166001Z",
          "shell.execute_reply": "2023-05-06T20:44:03.165096Z",
          "shell.execute_reply.started": "2023-05-06T20:43:39.173197Z"
        },
        "id": "rIUmi3RhpQiW"
      },
      "outputs": [],
      "source": [
        "#(2) モデルのダウンロード（ここにダウンロードしたいモデルを追加）\n",
        "%cd /notebooks/stable-diffusion-webui/models/Stable-diffusion\n",
        "!wget -nc https://civitai.com/api/download/models/16859 -O BlueberryMix-1.0.safetensors\n",
        "!wget -nc https://civitai.com/api/download/models/11745 -O Chilloutmix-Ni-pruned-fp32-fix.safetensors\n",
        "!wget -nc https://huggingface.co/sazyou-roukaku/chilled_remix/resolve/main/chilled_remix_v2.safetensors -O chilled_remix_v2.safetensors\n",
        "!wget -nc https://huggingface.co/Kotajiro/kisaragi_mix/resolve/main/kisaragi_mix_v21.safetensors -O kisaragi_mix_v21.safetensors\n",
        "!wget -nc https://huggingface.co/Kotajiro/mutsuki_mix_v1/resolve/main/mutsuki_mix_v1.safetensors -O mutsuki_mix_v1.safetensors\n",
        "\n",
        "%cd /notebooks/stable-diffusion-webui/embeddings\n",
        "!wget -nc https://civitai.com/api/download/models/60938 -O negative_hand-neg.pt\n",
        "!wget -nc https://huggingface.co/datasets/Nerfgun3/bad_prompt/resolve/main/bad_prompt_version2.pt -O bad_prompt.pt\n",
        "\n",
        "!mkdir -p /notebooks/stable-diffusion-webui/models/Lora\n",
        "%cd /notebooks/stable-diffusion-webui/models/Lora\n",
        "!wget -nc https://civitai.com/api/download/models/25633 -O excessive-pubic-hair.safetensors\n",
        "!wget -nc https://civitai.com/api/download/models/55958 -O backwards-virgin-killer-sweater.safetensors\n",
        "!wget -nc https://civitai.com/api/download/models/36720 -O virgin-killer-sweater.safetensors\n",
        "!wget -nc https://civitai.com/api/download/models/34562 -O japanesedolllikeness.safetensors\n",
        "!wget -nc https://civitai.com/api/download/models/52340 -O GirlfriendMix2.safetensors\n"
      ]
    },
    {
      "cell_type": "code",
      "execution_count": null,
      "metadata": {
        "id": "a3c-0LBjpYXe"
      },
      "outputs": [],
      "source": [
        "#(4) AUTOMATIC1111アップデート（アップデートが必要な時のみ実行）\n",
        "%cd /notebooks/stable-diffusion-webui\n",
        "!git checkout master\n",
        "!git pull\n"
      ]
    }
  ],
  "metadata": {
    "colab": {
      "private_outputs": true,
      "provenance": []
    },
    "gpuClass": "standard",
    "kernelspec": {
      "display_name": "Python 3 (ipykernel)",
      "language": "python",
      "name": "python3"
    },
    "language_info": {
      "codemirror_mode": {
        "name": "ipython",
        "version": 3
      },
      "file_extension": ".py",
      "mimetype": "text/x-python",
      "name": "python",
      "nbconvert_exporter": "python",
      "pygments_lexer": "ipython3",
      "version": "3.9.16"
    }
  },
  "nbformat": 4,
  "nbformat_minor": 0
}