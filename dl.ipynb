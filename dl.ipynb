{
  "nbformat": 4,
  "nbformat_minor": 0,
  "metadata": {
    "colab": {
      "private_outputs": true,
      "provenance": [],
      "authorship_tag": "ABX9TyMH0CIFMOZJKoVvGsgfnBy+"
    },
    "kernelspec": {
      "name": "python3",
      "display_name": "Python 3"
    },
    "language_info": {
      "name": "python"
    },
    "gpuClass": "standard"
  },
  "cells": [
    {
      "cell_type": "code",
      "execution_count": null,
      "metadata": {
        "id": "MqkL1trNsCc9"
      },
      "outputs": [],
      "source": [
        "%env DT=2023-05-24\n",
        "!zip -r /notebooks/download-$DT.zip /notebooks/stable-diffusion-webui/outputs/txt2img-images/$DT\n",
        "\n",
        "!rm -rf /notebooks/stable-diffusion-webui/outputs/txt2img-images/$DT\n"
      ]
    }
  ]
}