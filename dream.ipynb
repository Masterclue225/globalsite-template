{
  "cells": [
    {
      "cell_type": "code",
      "execution_count": null,
      "metadata": {
        "execution": {
          "iopub.execute_input": "2023-06-04T23:17:40.556510Z",
          "iopub.status.busy": "2023-06-04T23:17:40.556236Z"
        },
        "id": "qfGtMLwLpCr3"
      },
      "outputs": [],
      "source": [
        "#(3) WebUI起動\n",
        "!apt update\n",
        "!apt -y install python3.10\n",
        "!curl -sS https://bootstrap.pypa.io/get-pip.py | python3.10\n",
        "%cd /notebooks/dream/extensions/sd_dreambooth_extension\n",
        "!python3.10 -m pip install -r requirements.txt\n",
        "!python3.10 -m pip install numpy --pre torch torchvision torchaudio --force-reinstall --index-url https://download.pytorch.org/whl/nightly/cu117\n",
        "%cd /notebooks/dream\n",
        "!python3.10 launch.py --enable-insecure-extension-access --share --gradio-queue\n"
      ]
    },
    {
      "cell_type": "code",
      "execution_count": null,
      "metadata": {
        "execution": {
          "iopub.execute_input": "2023-06-04T22:27:42.126676Z",
          "iopub.status.busy": "2023-06-04T22:27:42.126113Z",
          "iopub.status.idle": "2023-06-04T22:27:56.631406Z",
          "shell.execute_reply": "2023-06-04T22:27:56.630471Z",
          "shell.execute_reply.started": "2023-06-04T22:27:42.126654Z"
        },
        "id": "JMVf8COkpK0e"
      },
      "outputs": [],
      "source": [
        "#(1) AUTOMATIC1111のダウンロード\n",
        "%cd /notebooks\n",
        "!mkdir -p dream-in\n",
        "!mkdir -p dream-out\n",
        "!rm -rf dream\n",
        "!git clone https://github.com/AUTOMATIC1111/stable-diffusion-webui dream\n",
        "%cd /notebooks/dream/extensions\n",
        "!git clone https://github.com/d8ahazard/sd_dreambooth_extension\n"
      ]
    },
    {
      "cell_type": "code",
      "execution_count": null,
      "metadata": {
        "execution": {
          "iopub.execute_input": "2023-06-04T22:28:48.475531Z",
          "iopub.status.busy": "2023-06-04T22:28:48.474887Z",
          "iopub.status.idle": "2023-06-04T22:31:40.919623Z",
          "shell.execute_reply": "2023-06-04T22:31:40.918806Z",
          "shell.execute_reply.started": "2023-06-04T22:28:48.475502Z"
        },
        "id": "rIUmi3RhpQiW"
      },
      "outputs": [],
      "source": [
        "#(2) モデルのダウンロード（ここにダウンロードしたいモデルを追加）\n",
        "%cd /notebooks/dream/models/Stable-diffusion\n",
        "!wget -nc https://huggingface.co/runwayml/stable-diffusion-v1-5/resolve/main/v1-5-pruned-emaonly.safetensors\n"
      ]
    },
    {
      "cell_type": "code",
      "execution_count": null,
      "metadata": {
        "execution": {
          "iopub.execute_input": "2023-06-04T16:34:49.772593Z",
          "iopub.status.busy": "2023-06-04T16:34:49.771752Z",
          "iopub.status.idle": "2023-06-04T16:34:51.656563Z",
          "shell.execute_reply": "2023-06-04T16:34:51.655969Z",
          "shell.execute_reply.started": "2023-06-04T16:34:49.772528Z"
        },
        "id": "a3c-0LBjpYXe"
      },
      "outputs": [],
      "source": [
        "#(4) AUTOMATIC1111アップデート（アップデートが必要な時のみ実行）\n",
        "%cd /notebooks/dream\n",
        "!git checkout master\n",
        "!git pull\n",
        "%cd /notebooks/dream/extensions/sd_dreambooth_extension\n",
        "!git pull\n"
      ]
    }
  ],
  "metadata": {
    "colab": {
      "private_outputs": true,
      "provenance": []
    },
    "gpuClass": "standard",
    "kernelspec": {
      "display_name": "Python 3 (ipykernel)",
      "language": "python",
      "name": "python3"
    },
    "language_info": {
      "codemirror_mode": {
        "name": "ipython",
        "version": 3
      },
      "file_extension": ".py",
      "mimetype": "text/x-python",
      "name": "python",
      "nbconvert_exporter": "python",
      "pygments_lexer": "ipython3",
      "version": "3.9.16"
    }
  },
  "nbformat": 4,
  "nbformat_minor": 0
}