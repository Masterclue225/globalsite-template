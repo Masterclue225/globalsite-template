{
  "cells": [
    {
      "cell_type": "code",
      "execution_count": null,
      "metadata": {
        "execution": {
          "iopub.execute_input": "2023-05-02T09:03:00.897016Z",
          "iopub.status.busy": "2023-05-02T09:03:00.896084Z",
          "iopub.status.idle": "2023-05-02T09:03:09.217064Z",
          "shell.execute_reply": "2023-05-02T09:03:09.215985Z",
          "shell.execute_reply.started": "2023-05-02T09:03:00.896985Z"
        },
        "id": "qfGtMLwLpCr3"
      },
      "outputs": [],
      "source": [
        "#(3) WebUI起動\n",
        "%cd /notebooks/stable-diffusion-webui\n",
        "!python launch.py --reinstall-torch --share --enable-insecure-extension-access --gradio-queue\n"
      ]
    },
    {
      "cell_type": "code",
      "execution_count": null,
      "metadata": {
        "execution": {
          "iopub.execute_input": "2023-05-02T09:10:42.831175Z",
          "iopub.status.busy": "2023-05-02T09:10:42.830811Z",
          "iopub.status.idle": "2023-05-02T09:10:51.963806Z",
          "shell.execute_reply": "2023-05-02T09:10:51.962832Z",
          "shell.execute_reply.started": "2023-05-02T09:10:42.831133Z"
        },
        "id": "JMVf8COkpK0e"
      },
      "outputs": [],
      "source": [
        "#(1) AUTOMATIC1111のダウンロード\n",
        "%cd /notebooks\n",
        "!rm -rf stable-diffusion-webui\n",
        "!git clone https://github.com/AUTOMATIC1111/stable-diffusion-webui\n"
      ]
    },
    {
      "cell_type": "code",
      "execution_count": null,
      "metadata": {
        "execution": {
          "iopub.execute_input": "2023-05-02T09:11:35.671116Z",
          "iopub.status.busy": "2023-05-02T09:11:35.670537Z",
          "iopub.status.idle": "2023-05-02T09:17:21.425249Z",
          "shell.execute_reply": "2023-05-02T09:17:21.424265Z",
          "shell.execute_reply.started": "2023-05-02T09:11:35.671087Z"
        },
        "id": "rIUmi3RhpQiW"
      },
      "outputs": [],
      "source": [
        "#(2) モデルのダウンロード（ここにダウンロードしたいモデルを追加）\n",
        "%cd /notebooks/stable-diffusion-webui/models/Stable-diffusion\n",
        "!wget -nc https://civitai.com/api/download/models/16859 -O BulueberryMix-1.0.safetensors\n",
        "!wget -nc https://civitai.com/api/download/models/11745 -O Chilloutmix-Ni-pruned-fp32-fix.safetensors\n",
        "!wget -nc https://huggingface.co/sazyou-roukaku/chilled_remix/resolve/main/chilled_remix_v1vae.safetensors -O chilled_remix_v1vae.safetensors\n"
      ]
    },
    {
      "cell_type": "code",
      "execution_count": null,
      "metadata": {
        "id": "a3c-0LBjpYXe"
      },
      "outputs": [],
      "source": [
        "#(4) AUTOMATIC1111アップデート（アップデートが必要な時のみ実行）\n",
        "%cd /notebooks/stable-diffusion-webui\n",
        "!git checkout master\n",
        "!git pull\n"
      ]
    }
  ],
  "metadata": {
    "colab": {
      "private_outputs": true,
      "provenance": []
    },
    "gpuClass": "standard",
    "kernelspec": {
      "display_name": "Python 3 (ipykernel)",
      "language": "python",
      "name": "python3"
    },
    "language_info": {
      "codemirror_mode": {
        "name": "ipython",
        "version": 3
      },
      "file_extension": ".py",
      "mimetype": "text/x-python",
      "name": "python",
      "nbconvert_exporter": "python",
      "pygments_lexer": "ipython3",
      "version": "3.9.16"
    }
  },
  "nbformat": 4,
  "nbformat_minor": 0
}