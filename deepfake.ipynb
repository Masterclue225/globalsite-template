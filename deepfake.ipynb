{
  "cells": [
    {
      "cell_type": "code",
      "execution_count": null,
      "metadata": {
        "execution": {
          "iopub.execute_input": "2023-06-02T02:50:15.068919Z",
          "iopub.status.busy": "2023-06-02T02:50:15.068647Z"
        },
        "id": "rIUmi3RhpQiW"
      },
      "outputs": [],
      "source": [
        "#(2) 実行コマンド\n",
        "!python run.py --target /notebooks/video01.mp4 --face /notebooks/face.png  --gpu-threads 2 --gpu-vendor intel\n"
      ]
    },
    {
      "cell_type": "code",
      "execution_count": null,
      "metadata": {
        "execution": {
          "iopub.execute_input": "2023-05-28T10:57:39.611035Z",
          "iopub.status.busy": "2023-05-28T10:57:39.610117Z",
          "iopub.status.idle": "2023-05-28T10:57:42.110652Z",
          "shell.execute_reply": "2023-05-28T10:57:42.109687Z",
          "shell.execute_reply.started": "2023-05-28T10:57:39.610995Z"
        },
        "id": "a3c-0LBjpYXe"
      },
      "outputs": [],
      "source": [
        "#(1) セットアップコマンド\n",
        "!add-apt-repository -y ppa:savoury1/ffmpeg4\n",
        "!apt-get -qq install -y ffmpeg\n",
        "%cd /notebooks/\n",
        "!git clone https://github.com/s0md3v/roop.git\n",
        "%cd /notebooks/roop\n",
        "!pip install -r requirements.txt\n",
        "!curl -Lo /notebooks/roop/inswapper_128.onnx https://civitai.com/api/download/models/85159\n",
        "!pip uninstall onnxruntime onnxruntime-gpu -y\n",
        "!pip install torch torchvision torchaudio --force-reinstall --index-url https://download.pytorch.org/whl/cu118\n",
        "!pip install onnxruntime-gpu\n"
      ]
    }
  ],
  "metadata": {
    "colab": {
      "private_outputs": true,
      "provenance": []
    },
    "gpuClass": "standard",
    "kernelspec": {
      "display_name": "Python 3 (ipykernel)",
      "language": "python",
      "name": "python3"
    },
    "language_info": {
      "codemirror_mode": {
        "name": "ipython",
        "version": 3
      },
      "file_extension": ".py",
      "mimetype": "text/x-python",
      "name": "python",
      "nbconvert_exporter": "python",
      "pygments_lexer": "ipython3",
      "version": "3.9.16"
    }
  },
  "nbformat": 4,
  "nbformat_minor": 0
}